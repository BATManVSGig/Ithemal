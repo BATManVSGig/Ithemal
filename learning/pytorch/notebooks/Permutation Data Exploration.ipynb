{
 "cells": [
  {
   "cell_type": "code",
   "execution_count": null,
   "metadata": {},
   "outputs": [],
   "source": [
    "%matplotlib inline\n",
    "\n",
    "import common_libs.utilities as ut\n",
    "import pandas as pd\n",
    "import scipy.special\n",
    "import matplotlib.pyplot as plt\n",
    "import numpy as np\n",
    "import "
   ]
  },
  {
   "cell_type": "code",
   "execution_count": null,
   "metadata": {},
   "outputs": [],
   "source": [
    "cnx = ut.create_connection()"
   ]
  },
  {
   "cell_type": "code",
   "execution_count": null,
   "metadata": {},
   "outputs": [],
   "source": [
    "perms = pd.read_sql('SELECT code_id, count(1) as n_perms FROM perms GROUP BY code_id', cnx).set_index('code_id')\n",
    "code = pd.read_sql('SELECT code_id, (LENGTH(code_intel) - LENGTH(REPLACE(code_intel, \"\\n\", \"\"))) as n_instrs FROM code', cnx).set_index('code_id')"
   ]
  },
  {
   "cell_type": "code",
   "execution_count": null,
   "metadata": {},
   "outputs": [],
   "source": [
    "joined = perms.join(code, how='inner')\n",
    "utilization = joined['n_perms'] / joined['n_instrs'].apply(scipy.special.factorial)"
   ]
  },
  {
   "cell_type": "code",
   "execution_count": null,
   "metadata": {},
   "outputs": [],
   "source": [
    "hist, bins = np.histogram(utilization)\n",
    "hist = hist.astype(np.float32) / hist.sum()\n",
    "width = 0.9 * (bins[1] - bins[0])\n",
    "center = (bins[:-1] + bins[1:]) / 2\n",
    "plt.bar(center, hist, align='center', width=width)\n",
    "plt.title('Parallel permutation utilization distribution')\n",
    "plt.xlabel(r'Ratio of utilization $\\left(\\frac{\\#\\it{permutations}}{\\#\\it{instructions}!}\\right)$', fontsize=18)\n",
    "plt.ylabel('Percentage of examples in random sample')\n",
    "plt.show()"
   ]
  },
  {
   "cell_type": "code",
   "execution_count": null,
   "metadata": {},
   "outputs": [],
   "source": []
  }
 ],
 "metadata": {
  "language_info": {
   "name": "python",
   "pygments_lexer": "ipython3"
  }
 },
 "nbformat": 4,
 "nbformat_minor": 2
}
